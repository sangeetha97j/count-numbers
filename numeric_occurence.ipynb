{
 "cells": [
  {
   "cell_type": "code",
   "execution_count": 2,
   "id": "045e72b3",
   "metadata": {},
   "outputs": [
    {
     "name": "stdout",
     "output_type": "stream",
     "text": [
      "enter the sentence   12 cars and 16 bikes were sold in the shop no 167\n",
      "prints all the numbers in the sentence ['1', '2', '1', '6', '1', '6', '7']\n",
      "prints the unique numbers(removing duplicate) found in y {'2', '6', '1', '7'}\n",
      "convert the set into list because set is unordered and not iterable ['2', '6', '1', '7']\n",
      "storing the occurence of each number in list1 [1, 2, 3, 1]\n",
      "{'2': 1, '6': 2, '1': 3, '7': 1}\n"
     ]
    }
   ],
   "source": [
    "x=input(\"enter the sentence   \")\n",
    "y=[i for i in x if i.isdigit()]# \n",
    "print(\"prints all the numbers in the sentence %s\" %y)\n",
    "z=set(y)\n",
    "print(\"prints the unique numbers(removing duplicate) found in y %s\" %z)\n",
    "d=list(z)\n",
    "print(\"convert the set into list because set is unordered and not iterable %s\"%d)\n",
    "list1=[]\n",
    "for num in d:\n",
    "        countnumbers=y.count(num)\n",
    "        list1.append(countnumbers)\n",
    "print(\"storing the occurence of each number in list1 %s\" %list1)\n",
    "f={d[o]:list1[o] for o in range(len(d))} #creating dict with numbers as key and \n",
    "#their ocuurence as key \n",
    "print(f)"
   ]
  },
  {
   "cell_type": "code",
   "execution_count": null,
   "id": "baeedd74",
   "metadata": {},
   "outputs": [],
   "source": []
  },
  {
   "cell_type": "code",
   "execution_count": null,
   "id": "cfa84673",
   "metadata": {},
   "outputs": [],
   "source": []
  }
 ],
 "metadata": {
  "kernelspec": {
   "display_name": "Python 3 (ipykernel)",
   "language": "python",
   "name": "python3"
  },
  "language_info": {
   "codemirror_mode": {
    "name": "ipython",
    "version": 3
   },
   "file_extension": ".py",
   "mimetype": "text/x-python",
   "name": "python",
   "nbconvert_exporter": "python",
   "pygments_lexer": "ipython3",
   "version": "3.9.13"
  }
 },
 "nbformat": 4,
 "nbformat_minor": 5
}
